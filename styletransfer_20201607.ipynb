{
  "nbformat": 4,
  "nbformat_minor": 0,
  "metadata": {
    "colab": {
      "provenance": []
    },
    "kernelspec": {
      "name": "python3",
      "display_name": "Python 3"
    },
    "language_info": {
      "name": "python"
    },
    "accelerator": "GPU",
    "gpuClass": "standard"
  },
  "cells": [
    {
      "cell_type": "code",
      "execution_count": null,
      "metadata": {
        "colab": {
          "base_uri": "https://localhost:8080/"
        },
        "id": "lasMSc7eJOP-",
        "outputId": "83e0f9cb-3b62-41a0-a85e-e5ead308ba81"
      },
      "outputs": [
        {
          "output_type": "stream",
          "name": "stdout",
          "text": [
            "Cloning into 'pytorch-AdaIN'...\n",
            "remote: Enumerating objects: 323, done.\u001b[K\n",
            "remote: Counting objects: 100% (75/75), done.\u001b[K\n",
            "remote: Compressing objects: 100% (16/16), done.\u001b[K\n",
            "remote: Total 323 (delta 62), reused 63 (delta 59), pack-reused 248\u001b[K\n",
            "Receiving objects: 100% (323/323), 7.79 MiB | 23.53 MiB/s, done.\n",
            "Resolving deltas: 100% (160/160), done.\n",
            "/content/pytorch-AdaIN\n"
          ]
        }
      ],
      "source": [
        "!git clone https://github.com/naoto0804/pytorch-AdaIN\n",
        "%cd pytorch-AdaIN\n",
        "!mkdir models"
      ]
    },
    {
      "cell_type": "code",
      "source": [
        "import cv2\n",
        "import numpy as np\n",
        "import os\n",
        "\n",
        "# 이미지 로드\n",
        "img_path = '/content/pytorch-AdaIN/R/R10000.jpg'\n",
        "img = cv2.imread(img_path)\n",
        "\n",
        "# 이미지 높이, 너비, 채널 수 구하기\n",
        "h, w, c = img.shape\n",
        "\n",
        "# 10등분한 이미지 높이 구하기\n",
        "crop_h = int(h/10)\n",
        "\n",
        "# 이미지 저장할 폴더 생성\n",
        "if not os.path.exists('result'):\n",
        "    os.makedirs('result')\n",
        "\n",
        "# 저장할 이미지 번호 입력 받기\n",
        "img_num = int(input(\"저장할 이미지 번호를 입력하세요 (1~10): \"))\n",
        "\n",
        "if img_num < 1 or img_num > 10:\n",
        "    print(\"잘못된 이미지 번호입니다. 1~10 사이의 숫자를 입력해주세요.\")\n",
        "else:\n",
        "    # 선택한 이미지 잘라내기\n",
        "    crop_img = img[(img_num-1)*crop_h:img_num*crop_h, 0:w]\n",
        "\n",
        "    # 선택한 이미지 저장\n",
        "    cv2.imwrite(f'result/수평조각_{img_num}.jpg', crop_img)"
      ],
      "metadata": {
        "colab": {
          "base_uri": "https://localhost:8080/"
        },
        "id": "ayZR0MJcJz_X",
        "outputId": "8c426f37-c156-4fe4-885a-6a7dbf8d306b"
      },
      "execution_count": null,
      "outputs": [
        {
          "name": "stdout",
          "output_type": "stream",
          "text": [
            "저장할 이미지 번호를 입력하세요 (1~10): 10\n"
          ]
        }
      ]
    },
    {
      "cell_type": "code",
      "source": [
        "import cv2\n",
        "import numpy as np\n",
        "import os\n",
        "\n",
        "# 이미지 로드\n",
        "img_path = '/content/pytorch-AdaIN/T/T1000.jpg'\n",
        "img = cv2.imread(img_path)\n",
        "\n",
        "# 이미지 높이, 너비, 채널 수 구하기\n",
        "h, w, c = img.shape\n",
        "\n",
        "# 10등분한 이미지 너비 구하기\n",
        "crop_w = int(w/10)\n",
        "\n",
        "# 저장할 폴더 생성\n",
        "folder_name = 'result1'\n",
        "if not os.path.exists(folder_name):\n",
        "    os.makedirs(folder_name)\n",
        "\n",
        "# 저장할 이미지 번호 입력 받기\n",
        "img_num = int(input(\"저장할 이미지 번호를 입력하세요 (1~10): \"))\n",
        "\n",
        "if img_num < 1 or img_num > 10:\n",
        "    print(\"잘못된 이미지 번호입니다. 1~10 사이의 숫자를 입력해주세요.\")\n",
        "else:\n",
        "    # 선택한 이미지 잘라내기\n",
        "    crop_img = img[0:h, (img_num-1)*crop_w:img_num*crop_w]\n",
        "\n",
        "    # 선택한 이미지 저장\n",
        "    save_path = os.path.join(folder_name, f'조각_{11-img_num}.jpg')\n",
        "    cv2.imwrite(save_path, crop_img)"
      ],
      "metadata": {
        "colab": {
          "base_uri": "https://localhost:8080/"
        },
        "id": "F-OARMESLTXL",
        "outputId": "69dd4d1e-a76e-4bf6-8f33-22c2148470f8"
      },
      "execution_count": null,
      "outputs": [
        {
          "name": "stdout",
          "output_type": "stream",
          "text": [
            "저장할 이미지 번호를 입력하세요 (1~10): 9\n"
          ]
        }
      ]
    },
    {
      "cell_type": "code",
      "source": [
        "!CUDA_VISIBLE_DEVICES=0 python test.py --content result/수평조각_1.jpg --style input/style/크로키.jpg --alpha 0.1"
      ],
      "metadata": {
        "id": "2535vuTHUCmx"
      },
      "execution_count": null,
      "outputs": []
    },
    {
      "cell_type": "code",
      "source": [
        "!CUDA_VISIBLE_DEVICES=0 python test.py --content result/수평조각_2.jpg --style input/style/크로키.jpg --alpha 0.3"
      ],
      "metadata": {
        "id": "_8NLLNGoUBBf"
      },
      "execution_count": null,
      "outputs": []
    },
    {
      "cell_type": "code",
      "source": [
        "!CUDA_VISIBLE_DEVICES=0 python test.py --content result/수평조각_3.jpg --style input/style/크로키.jpg --alpha 0.5"
      ],
      "metadata": {
        "id": "Tkr0kKQUT83l"
      },
      "execution_count": null,
      "outputs": []
    },
    {
      "cell_type": "code",
      "source": [
        "!CUDA_VISIBLE_DEVICES=0 python test.py --content result/수평조각_4.jpg --style input/style/크로키.jpg --alpha 0.7"
      ],
      "metadata": {
        "id": "0sxK57_hT88x"
      },
      "execution_count": null,
      "outputs": []
    },
    {
      "cell_type": "code",
      "source": [
        "!CUDA_VISIBLE_DEVICES=0 python test.py --content result/수평조각_5.jpg --style input/style/크로키.jpg --alpha 0.9"
      ],
      "metadata": {
        "id": "dXJdqVX3T9Al"
      },
      "execution_count": null,
      "outputs": []
    },
    {
      "cell_type": "code",
      "source": [
        "!CUDA_VISIBLE_DEVICES=0 python test.py --content result/수평조각_6.jpg --style input/style/크로키.jpg --alpha 1.0"
      ],
      "metadata": {
        "id": "QIRR4I6PT9EV"
      },
      "execution_count": null,
      "outputs": []
    },
    {
      "cell_type": "code",
      "source": [
        "!CUDA_VISIBLE_DEVICES=0 python test.py --content result/수평조각_7.jpg --style input/style/크로키.jpg --alpha 1.0"
      ],
      "metadata": {
        "id": "BzmLJm-aT9H1"
      },
      "execution_count": null,
      "outputs": []
    },
    {
      "cell_type": "code",
      "source": [
        "!CUDA_VISIBLE_DEVICES=0 python test.py --content result/수평조각_8.jpg --style input/style/크로키.jpg --alpha 1.0"
      ],
      "metadata": {
        "id": "debyiUvCT9LY"
      },
      "execution_count": null,
      "outputs": []
    },
    {
      "cell_type": "code",
      "source": [
        "!CUDA_VISIBLE_DEVICES=0 python test.py --content result/수평조각_9.jpg --style input/style/크로키.jpg --alpha 1.0"
      ],
      "metadata": {
        "id": "76h9WYtdUOWF"
      },
      "execution_count": null,
      "outputs": []
    },
    {
      "cell_type": "code",
      "source": [
        "!CUDA_VISIBLE_DEVICES=0 python test.py --content result/수평조각_10.jpg --style input/style/크로키.jpg --alpha 1.0"
      ],
      "metadata": {
        "id": "OPG2xv5aT9PC"
      },
      "execution_count": null,
      "outputs": []
    },
    {
      "cell_type": "code",
      "source": [
        "!CUDA_VISIBLE_DEVICES=0 python test.py --content input/content/달배경00.jpg --style input/style/피카소.jpg --alpha 0.3"
      ],
      "metadata": {
        "id": "22-lkSmERbY2"
      },
      "execution_count": null,
      "outputs": []
    },
    {
      "cell_type": "code",
      "source": [
        "!CUDA_VISIBLE_DEVICES=0 python test.py --content input/content/눈동자달00.jpg --style input/style/연기기억.jpg"
      ],
      "metadata": {
        "id": "4UACOqDrSC_1"
      },
      "execution_count": null,
      "outputs": []
    },
    {
      "cell_type": "code",
      "source": [
        "!CUDA_VISIBLE_DEVICES=0 python test.py --content result1/조각_3.jpg --style input/style/수묵화.png --alpha 0.5"
      ],
      "metadata": {
        "id": "7hWAUd7HSDyO"
      },
      "execution_count": null,
      "outputs": []
    },
    {
      "cell_type": "code",
      "source": [
        "!CUDA_VISIBLE_DEVICES=0 python test.py --content result1/조각_4.jpg --style input/style/연기기억.jpg"
      ],
      "metadata": {
        "id": "eXObD_uYSEmz"
      },
      "execution_count": null,
      "outputs": []
    },
    {
      "cell_type": "code",
      "source": [
        "!CUDA_VISIBLE_DEVICES=0 python test.py --content result1/조각_5.jpg --style input/style/수묵화.png --alpha 0.9"
      ],
      "metadata": {
        "id": "671k-KSrSJSw"
      },
      "execution_count": null,
      "outputs": []
    },
    {
      "cell_type": "code",
      "source": [
        "!CUDA_VISIBLE_DEVICES=0 python test.py --content result1/조각_6.jpg --style input/style/수묵화.png --alpha 1.0"
      ],
      "metadata": {
        "id": "vFYS6ibFSKBn"
      },
      "execution_count": null,
      "outputs": []
    },
    {
      "cell_type": "code",
      "source": [
        "!CUDA_VISIBLE_DEVICES=0 python test.py --content result1/조각_7.jpg --style input/style/수묵화.png --alpha 1.0"
      ],
      "metadata": {
        "id": "uWAmeQHDSL0n"
      },
      "execution_count": null,
      "outputs": []
    },
    {
      "cell_type": "code",
      "source": [
        "!CUDA_VISIBLE_DEVICES=0 python test.py --content result1/조각_8.jpg --style input/style/수묵화.png --alpha 1.0"
      ],
      "metadata": {
        "id": "fIIB9a9MSMJF"
      },
      "execution_count": null,
      "outputs": []
    },
    {
      "cell_type": "code",
      "source": [
        "!CUDA_VISIBLE_DEVICES=0 python test.py --content result1/조각_9.jpg --style input/style/수묵화.png --alpha 1.0"
      ],
      "metadata": {
        "id": "1OTMnUUiSMTO"
      },
      "execution_count": null,
      "outputs": []
    },
    {
      "cell_type": "code",
      "source": [
        "!CUDA_VISIBLE_DEVICES=0 python test.py --content result1/조각_10.jpg --style input/style/수묵화.png --alpha 1.0"
      ],
      "metadata": {
        "id": "QLgSn5H-SMc-"
      },
      "execution_count": null,
      "outputs": []
    }
  ]
}